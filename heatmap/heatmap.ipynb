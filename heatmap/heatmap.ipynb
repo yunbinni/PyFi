{
 "cells": [
  {
   "cell_type": "code",
   "execution_count": 14,
   "id": "4072e4f0-647e-4441-aa6e-e1acae0aefbf",
   "metadata": {
    "tags": []
   },
   "outputs": [],
   "source": [
    "import numpy as np\n",
    "import pandas as pd\n",
    "import matplotlib.pyplot as plt\n",
    "import seaborn as sns\n",
    "\n",
    "from sklearn.naive_bayes import MultinomialNB\n",
    "from sklearn.model_selection import train_test_split\n",
    "from sklearn.metrics import confusion_matrix\n",
    "from sklearn.metrics import accuracy_score\n",
    "\n",
    "from sklearn.model_selection import train_test_split\n",
    "from sklearn.linear_model import LinearRegression\n",
    "from sklearn.metrics import mean_squared_error\n",
    "from sklearn.metrics import r2_score"
   ]
  },
  {
   "cell_type": "code",
   "execution_count": 15,
   "id": "d5c27734-4dfc-4b67-b5f4-a009dac9a0bc",
   "metadata": {},
   "outputs": [],
   "source": [
    "from datetime import datetime"
   ]
  },
  {
   "cell_type": "code",
   "execution_count": 16,
   "id": "814d77cb-8c01-49d5-8d5e-668528bd5379",
   "metadata": {},
   "outputs": [],
   "source": [
    "celltrion = pd.read_csv('celltrion.csv')\n",
    "celltrionhc = pd.read_csv('celltrionhc.csv')\n",
    "celltrionph = pd.read_csv('celltrionph.csv')"
   ]
  },
  {
   "cell_type": "code",
   "execution_count": 17,
   "id": "fa731343-3f4b-468b-b5a1-755ddf604ece",
   "metadata": {},
   "outputs": [],
   "source": [
    "kakao = pd.read_csv('kakao.csv')\n",
    "kakaog = pd.read_csv('kakaog.csv')\n",
    "kakaob = pd.read_csv('kakaob.csv')"
   ]
  },
  {
   "cell_type": "code",
   "execution_count": 18,
   "id": "56e7b9be-1ed5-4bb9-aa80-f1c045f924f3",
   "metadata": {},
   "outputs": [
    {
     "data": {
      "text/plain": [
       "520"
      ]
     },
     "execution_count": 18,
     "metadata": {},
     "output_type": "execute_result"
    }
   ],
   "source": [
    "kakao[kakao.Date == '2020-09-10'].index[0]"
   ]
  },
  {
   "cell_type": "code",
   "execution_count": 19,
   "id": "a50bd4ee-5140-4154-82ce-9ba197c720c8",
   "metadata": {},
   "outputs": [
    {
     "data": {
      "text/html": [
       "<div>\n",
       "<style scoped>\n",
       "    .dataframe tbody tr th:only-of-type {\n",
       "        vertical-align: middle;\n",
       "    }\n",
       "\n",
       "    .dataframe tbody tr th {\n",
       "        vertical-align: top;\n",
       "    }\n",
       "\n",
       "    .dataframe thead th {\n",
       "        text-align: right;\n",
       "    }\n",
       "</style>\n",
       "<table border=\"1\" class=\"dataframe\">\n",
       "  <thead>\n",
       "    <tr style=\"text-align: right;\">\n",
       "      <th></th>\n",
       "      <th>Date</th>\n",
       "      <th>Open</th>\n",
       "      <th>High</th>\n",
       "      <th>Low</th>\n",
       "      <th>Close</th>\n",
       "      <th>Volume</th>\n",
       "    </tr>\n",
       "  </thead>\n",
       "  <tbody>\n",
       "    <tr>\n",
       "      <th>520</th>\n",
       "      <td>2020-09-10</td>\n",
       "      <td>78681</td>\n",
       "      <td>79584</td>\n",
       "      <td>77075</td>\n",
       "      <td>77376</td>\n",
       "      <td>936708</td>\n",
       "    </tr>\n",
       "    <tr>\n",
       "      <th>521</th>\n",
       "      <td>2020-09-11</td>\n",
       "      <td>76671</td>\n",
       "      <td>77073</td>\n",
       "      <td>75368</td>\n",
       "      <td>76071</td>\n",
       "      <td>792840</td>\n",
       "    </tr>\n",
       "    <tr>\n",
       "      <th>522</th>\n",
       "      <td>2020-09-14</td>\n",
       "      <td>75668</td>\n",
       "      <td>75868</td>\n",
       "      <td>74063</td>\n",
       "      <td>74967</td>\n",
       "      <td>830231</td>\n",
       "    </tr>\n",
       "    <tr>\n",
       "      <th>523</th>\n",
       "      <td>2020-09-15</td>\n",
       "      <td>74465</td>\n",
       "      <td>77275</td>\n",
       "      <td>74064</td>\n",
       "      <td>76473</td>\n",
       "      <td>860038</td>\n",
       "    </tr>\n",
       "    <tr>\n",
       "      <th>524</th>\n",
       "      <td>2020-09-16</td>\n",
       "      <td>77075</td>\n",
       "      <td>77175</td>\n",
       "      <td>75670</td>\n",
       "      <td>75670</td>\n",
       "      <td>485743</td>\n",
       "    </tr>\n",
       "    <tr>\n",
       "      <th>...</th>\n",
       "      <td>...</td>\n",
       "      <td>...</td>\n",
       "      <td>...</td>\n",
       "      <td>...</td>\n",
       "      <td>...</td>\n",
       "      <td>...</td>\n",
       "    </tr>\n",
       "    <tr>\n",
       "      <th>753</th>\n",
       "      <td>2021-08-20</td>\n",
       "      <td>146500</td>\n",
       "      <td>149000</td>\n",
       "      <td>143000</td>\n",
       "      <td>144000</td>\n",
       "      <td>2776813</td>\n",
       "    </tr>\n",
       "    <tr>\n",
       "      <th>754</th>\n",
       "      <td>2021-08-23</td>\n",
       "      <td>146000</td>\n",
       "      <td>148500</td>\n",
       "      <td>144500</td>\n",
       "      <td>148500</td>\n",
       "      <td>2678395</td>\n",
       "    </tr>\n",
       "    <tr>\n",
       "      <th>755</th>\n",
       "      <td>2021-08-24</td>\n",
       "      <td>150000</td>\n",
       "      <td>150500</td>\n",
       "      <td>148000</td>\n",
       "      <td>149000</td>\n",
       "      <td>2032632</td>\n",
       "    </tr>\n",
       "    <tr>\n",
       "      <th>756</th>\n",
       "      <td>2021-08-25</td>\n",
       "      <td>149000</td>\n",
       "      <td>153500</td>\n",
       "      <td>148500</td>\n",
       "      <td>151000</td>\n",
       "      <td>2900928</td>\n",
       "    </tr>\n",
       "    <tr>\n",
       "      <th>757</th>\n",
       "      <td>2021-08-26</td>\n",
       "      <td>151500</td>\n",
       "      <td>152500</td>\n",
       "      <td>147500</td>\n",
       "      <td>149500</td>\n",
       "      <td>2346754</td>\n",
       "    </tr>\n",
       "  </tbody>\n",
       "</table>\n",
       "<p>238 rows × 6 columns</p>\n",
       "</div>"
      ],
      "text/plain": [
       "           Date    Open    High     Low   Close   Volume\n",
       "520  2020-09-10   78681   79584   77075   77376   936708\n",
       "521  2020-09-11   76671   77073   75368   76071   792840\n",
       "522  2020-09-14   75668   75868   74063   74967   830231\n",
       "523  2020-09-15   74465   77275   74064   76473   860038\n",
       "524  2020-09-16   77075   77175   75670   75670   485743\n",
       "..          ...     ...     ...     ...     ...      ...\n",
       "753  2021-08-20  146500  149000  143000  144000  2776813\n",
       "754  2021-08-23  146000  148500  144500  148500  2678395\n",
       "755  2021-08-24  150000  150500  148000  149000  2032632\n",
       "756  2021-08-25  149000  153500  148500  151000  2900928\n",
       "757  2021-08-26  151500  152500  147500  149500  2346754\n",
       "\n",
       "[238 rows x 6 columns]"
      ]
     },
     "execution_count": 19,
     "metadata": {},
     "output_type": "execute_result"
    }
   ],
   "source": [
    "kakao.iloc[520:, :]"
   ]
  },
  {
   "cell_type": "code",
   "execution_count": 20,
   "id": "de23e29a-078f-447e-87b6-bfd7ccfa38a4",
   "metadata": {},
   "outputs": [
    {
     "data": {
      "text/html": [
       "<div>\n",
       "<style scoped>\n",
       "    .dataframe tbody tr th:only-of-type {\n",
       "        vertical-align: middle;\n",
       "    }\n",
       "\n",
       "    .dataframe tbody tr th {\n",
       "        vertical-align: top;\n",
       "    }\n",
       "\n",
       "    .dataframe thead th {\n",
       "        text-align: right;\n",
       "    }\n",
       "</style>\n",
       "<table border=\"1\" class=\"dataframe\">\n",
       "  <thead>\n",
       "    <tr style=\"text-align: right;\">\n",
       "      <th></th>\n",
       "      <th>date</th>\n",
       "      <th>kakao</th>\n",
       "      <th>kakaog</th>\n",
       "    </tr>\n",
       "  </thead>\n",
       "  <tbody>\n",
       "    <tr>\n",
       "      <th>0</th>\n",
       "      <td>2020-09-10</td>\n",
       "      <td>77376</td>\n",
       "      <td>62400</td>\n",
       "    </tr>\n",
       "    <tr>\n",
       "      <th>1</th>\n",
       "      <td>2020-09-11</td>\n",
       "      <td>76071</td>\n",
       "      <td>81100</td>\n",
       "    </tr>\n",
       "    <tr>\n",
       "      <th>2</th>\n",
       "      <td>2020-09-14</td>\n",
       "      <td>74967</td>\n",
       "      <td>73800</td>\n",
       "    </tr>\n",
       "    <tr>\n",
       "      <th>3</th>\n",
       "      <td>2020-09-15</td>\n",
       "      <td>76473</td>\n",
       "      <td>67500</td>\n",
       "    </tr>\n",
       "    <tr>\n",
       "      <th>4</th>\n",
       "      <td>2020-09-16</td>\n",
       "      <td>75670</td>\n",
       "      <td>66300</td>\n",
       "    </tr>\n",
       "    <tr>\n",
       "      <th>...</th>\n",
       "      <td>...</td>\n",
       "      <td>...</td>\n",
       "      <td>...</td>\n",
       "    </tr>\n",
       "    <tr>\n",
       "      <th>233</th>\n",
       "      <td>2021-08-20</td>\n",
       "      <td>144000</td>\n",
       "      <td>77600</td>\n",
       "    </tr>\n",
       "    <tr>\n",
       "      <th>234</th>\n",
       "      <td>2021-08-23</td>\n",
       "      <td>148500</td>\n",
       "      <td>75300</td>\n",
       "    </tr>\n",
       "    <tr>\n",
       "      <th>235</th>\n",
       "      <td>2021-08-24</td>\n",
       "      <td>149000</td>\n",
       "      <td>75900</td>\n",
       "    </tr>\n",
       "    <tr>\n",
       "      <th>236</th>\n",
       "      <td>2021-08-25</td>\n",
       "      <td>151000</td>\n",
       "      <td>76800</td>\n",
       "    </tr>\n",
       "    <tr>\n",
       "      <th>237</th>\n",
       "      <td>2021-08-26</td>\n",
       "      <td>149500</td>\n",
       "      <td>85400</td>\n",
       "    </tr>\n",
       "  </tbody>\n",
       "</table>\n",
       "<p>238 rows × 3 columns</p>\n",
       "</div>"
      ],
      "text/plain": [
       "           date   kakao  kakaog\n",
       "0    2020-09-10   77376   62400\n",
       "1    2020-09-11   76071   81100\n",
       "2    2020-09-14   74967   73800\n",
       "3    2020-09-15   76473   67500\n",
       "4    2020-09-16   75670   66300\n",
       "..          ...     ...     ...\n",
       "233  2021-08-20  144000   77600\n",
       "234  2021-08-23  148500   75300\n",
       "235  2021-08-24  149000   75900\n",
       "236  2021-08-25  151000   76800\n",
       "237  2021-08-26  149500   85400\n",
       "\n",
       "[238 rows x 3 columns]"
      ]
     },
     "execution_count": 20,
     "metadata": {},
     "output_type": "execute_result"
    }
   ],
   "source": [
    "df1 = pd.DataFrame({'date':kakaog.iloc[:, 0].to_numpy(),\n",
    "                    'kakao': kakao.iloc[520:, 4].to_numpy(),\n",
    "                    'kakaog': kakaog.iloc[:, 4].to_numpy()})\n",
    "df1"
   ]
  },
  {
   "cell_type": "code",
   "execution_count": 21,
   "id": "4736c7cc-6635-4f36-9cb6-191f1930b540",
   "metadata": {},
   "outputs": [
    {
     "data": {
      "image/png": "[encoded data removed]",
      "text/plain": [
       "<Figure size 640x480 with 2 Axes>"
      ]
     },
     "metadata": {},
     "output_type": "display_data"
    }
   ],
   "source": [
    "sns.heatmap(data=df1.corr(), annot=True, fmt='.2f')\n",
    "plt.show()"
   ]
  },
  {
   "cell_type": "code",
   "execution_count": 22,
   "id": "285ab91a-7b52-48ac-bbdb-baed9a371bbd",
   "metadata": {},
   "outputs": [
    {
     "data": {
      "text/html": [
       "<div>\n",
       "<style scoped>\n",
       "    .dataframe tbody tr th:only-of-type {\n",
       "        vertical-align: middle;\n",
       "    }\n",
       "\n",
       "    .dataframe tbody tr th {\n",
       "        vertical-align: top;\n",
       "    }\n",
       "\n",
       "    .dataframe thead th {\n",
       "        text-align: right;\n",
       "    }\n",
       "</style>\n",
       "<table border=\"1\" class=\"dataframe\">\n",
       "  <thead>\n",
       "    <tr style=\"text-align: right;\">\n",
       "      <th></th>\n",
       "      <th>Date</th>\n",
       "      <th>Open</th>\n",
       "      <th>High</th>\n",
       "      <th>Low</th>\n",
       "      <th>Close</th>\n",
       "      <th>Volume</th>\n",
       "    </tr>\n",
       "  </thead>\n",
       "  <tbody>\n",
       "    <tr>\n",
       "      <th>0</th>\n",
       "      <td>2020-07-28</td>\n",
       "      <td>101795</td>\n",
       "      <td>101795</td>\n",
       "      <td>98853</td>\n",
       "      <td>99834</td>\n",
       "      <td>1049861</td>\n",
       "    </tr>\n",
       "    <tr>\n",
       "      <th>1</th>\n",
       "      <td>2020-07-29</td>\n",
       "      <td>99539</td>\n",
       "      <td>100029</td>\n",
       "      <td>94832</td>\n",
       "      <td>95519</td>\n",
       "      <td>2700475</td>\n",
       "    </tr>\n",
       "    <tr>\n",
       "      <th>2</th>\n",
       "      <td>2020-07-30</td>\n",
       "      <td>94636</td>\n",
       "      <td>98264</td>\n",
       "      <td>91203</td>\n",
       "      <td>93754</td>\n",
       "      <td>4147178</td>\n",
       "    </tr>\n",
       "    <tr>\n",
       "      <th>3</th>\n",
       "      <td>2020-07-31</td>\n",
       "      <td>93753</td>\n",
       "      <td>95420</td>\n",
       "      <td>92674</td>\n",
       "      <td>92675</td>\n",
       "      <td>1224097</td>\n",
       "    </tr>\n",
       "    <tr>\n",
       "      <th>4</th>\n",
       "      <td>2020-08-03</td>\n",
       "      <td>91596</td>\n",
       "      <td>95616</td>\n",
       "      <td>89340</td>\n",
       "      <td>95617</td>\n",
       "      <td>2542456</td>\n",
       "    </tr>\n",
       "  </tbody>\n",
       "</table>\n",
       "</div>"
      ],
      "text/plain": [
       "         Date    Open    High    Low  Close   Volume\n",
       "0  2020-07-28  101795  101795  98853  99834  1049861\n",
       "1  2020-07-29   99539  100029  94832  95519  2700475\n",
       "2  2020-07-30   94636   98264  91203  93754  4147178\n",
       "3  2020-07-31   93753   95420  92674  92675  1224097\n",
       "4  2020-08-03   91596   95616  89340  95617  2542456"
      ]
     },
     "execution_count": 22,
     "metadata": {},
     "output_type": "execute_result"
    }
   ],
   "source": [
    "celltrionhc.head()"
   ]
  },
  {
   "cell_type": "code",
   "execution_count": 23,
   "id": "d050c5f2-8f10-4ada-997e-7744baa78bd0",
   "metadata": {},
   "outputs": [
    {
     "data": {
      "text/plain": [
       "489"
      ]
     },
     "execution_count": 23,
     "metadata": {},
     "output_type": "execute_result"
    }
   ],
   "source": [
    "celltrion[celltrion.Date == '2020-07-28'].index[0]"
   ]
  },
  {
   "cell_type": "code",
   "execution_count": 24,
   "id": "8cbd5277-f67f-4fd1-9a36-5cd3ba996a00",
   "metadata": {},
   "outputs": [
    {
     "data": {
      "text/plain": [
       "489"
      ]
     },
     "execution_count": 24,
     "metadata": {},
     "output_type": "execute_result"
    }
   ],
   "source": [
    "celltrionph[celltrionph.Date == '2020-07-28'].index[0]"
   ]
  },
  {
   "cell_type": "code",
   "execution_count": 25,
   "id": "97b1c71a-2ca7-4dec-9075-1fde717e3f81",
   "metadata": {},
   "outputs": [
    {
     "data": {
      "text/html": [
       "<div>\n",
       "<style scoped>\n",
       "    .dataframe tbody tr th:only-of-type {\n",
       "        vertical-align: middle;\n",
       "    }\n",
       "\n",
       "    .dataframe tbody tr th {\n",
       "        vertical-align: top;\n",
       "    }\n",
       "\n",
       "    .dataframe thead th {\n",
       "        text-align: right;\n",
       "    }\n",
       "</style>\n",
       "<table border=\"1\" class=\"dataframe\">\n",
       "  <thead>\n",
       "    <tr style=\"text-align: right;\">\n",
       "      <th></th>\n",
       "      <th>date</th>\n",
       "      <th>celltrion</th>\n",
       "      <th>celltrionph</th>\n",
       "      <th>celltrionhc</th>\n",
       "    </tr>\n",
       "  </thead>\n",
       "  <tbody>\n",
       "    <tr>\n",
       "      <th>0</th>\n",
       "      <td>2020-07-28</td>\n",
       "      <td>311787</td>\n",
       "      <td>120904</td>\n",
       "      <td>99834</td>\n",
       "    </tr>\n",
       "    <tr>\n",
       "      <th>1</th>\n",
       "      <td>2020-07-29</td>\n",
       "      <td>296075</td>\n",
       "      <td>115903</td>\n",
       "      <td>95519</td>\n",
       "    </tr>\n",
       "    <tr>\n",
       "      <th>2</th>\n",
       "      <td>2020-07-30</td>\n",
       "      <td>294602</td>\n",
       "      <td>115707</td>\n",
       "      <td>93754</td>\n",
       "    </tr>\n",
       "    <tr>\n",
       "      <th>3</th>\n",
       "      <td>2020-07-31</td>\n",
       "      <td>291165</td>\n",
       "      <td>115413</td>\n",
       "      <td>92675</td>\n",
       "    </tr>\n",
       "    <tr>\n",
       "      <th>4</th>\n",
       "      <td>2020-08-03</td>\n",
       "      <td>293620</td>\n",
       "      <td>116001</td>\n",
       "      <td>95617</td>\n",
       "    </tr>\n",
       "    <tr>\n",
       "      <th>...</th>\n",
       "      <td>...</td>\n",
       "      <td>...</td>\n",
       "      <td>...</td>\n",
       "      <td>...</td>\n",
       "    </tr>\n",
       "    <tr>\n",
       "      <th>264</th>\n",
       "      <td>2021-08-20</td>\n",
       "      <td>266000</td>\n",
       "      <td>162000</td>\n",
       "      <td>110800</td>\n",
       "    </tr>\n",
       "    <tr>\n",
       "      <th>265</th>\n",
       "      <td>2021-08-23</td>\n",
       "      <td>284000</td>\n",
       "      <td>175300</td>\n",
       "      <td>119600</td>\n",
       "    </tr>\n",
       "    <tr>\n",
       "      <th>266</th>\n",
       "      <td>2021-08-24</td>\n",
       "      <td>282500</td>\n",
       "      <td>172300</td>\n",
       "      <td>120200</td>\n",
       "    </tr>\n",
       "    <tr>\n",
       "      <th>267</th>\n",
       "      <td>2021-08-25</td>\n",
       "      <td>282000</td>\n",
       "      <td>171100</td>\n",
       "      <td>120300</td>\n",
       "    </tr>\n",
       "    <tr>\n",
       "      <th>268</th>\n",
       "      <td>2021-08-26</td>\n",
       "      <td>284500</td>\n",
       "      <td>169200</td>\n",
       "      <td>121900</td>\n",
       "    </tr>\n",
       "  </tbody>\n",
       "</table>\n",
       "<p>269 rows × 4 columns</p>\n",
       "</div>"
      ],
      "text/plain": [
       "           date  celltrion  celltrionph  celltrionhc\n",
       "0    2020-07-28     311787       120904        99834\n",
       "1    2020-07-29     296075       115903        95519\n",
       "2    2020-07-30     294602       115707        93754\n",
       "3    2020-07-31     291165       115413        92675\n",
       "4    2020-08-03     293620       116001        95617\n",
       "..          ...        ...          ...          ...\n",
       "264  2021-08-20     266000       162000       110800\n",
       "265  2021-08-23     284000       175300       119600\n",
       "266  2021-08-24     282500       172300       120200\n",
       "267  2021-08-25     282000       171100       120300\n",
       "268  2021-08-26     284500       169200       121900\n",
       "\n",
       "[269 rows x 4 columns]"
      ]
     },
     "execution_count": 25,
     "metadata": {},
     "output_type": "execute_result"
    }
   ],
   "source": [
    "df2 = pd.DataFrame({'date' : celltrionhc.iloc[:, 0].to_numpy(),\n",
    "                    'celltrion' : celltrion.iloc[489:, 4].to_numpy(),\n",
    "                    'celltrionph' : celltrionph.iloc[489:, 4].to_numpy(),\n",
    "                    'celltrionhc' : celltrionhc.iloc[:, 4].to_numpy()})\n",
    "df2"
   ]
  },
  {
   "cell_type": "code",
   "execution_count": 26,
   "id": "0573ced3-7341-4ffe-a416-a33449672d69",
   "metadata": {},
   "outputs": [
    {
     "data": {
      "image/png": "[encoded data removed]",
      "text/plain": [
       "<Figure size 640x480 with 2 Axes>"
      ]
     },
     "metadata": {},
     "output_type": "display_data"
    }
   ],
   "source": [
    "sns.heatmap(data=df2.corr(), annot=True, fmt='.2f')\n",
    "plt.show()"
   ]
  },
  {
   "cell_type": "code",
   "execution_count": null,
   "id": "9179a16d-da1b-4820-9129-c9ffb288edb5",
   "metadata": {},
   "outputs": [],
   "source": []
  },
  {
   "cell_type": "code",
   "execution_count": null,
   "id": "e74675cf-eb16-4617-a58d-0a860a5716da",
   "metadata": {},
   "outputs": [],
   "source": []
  },
  {
   "cell_type": "code",
   "execution_count": null,
   "id": "d2208faf-14d7-4c42-8625-276a4042dca2",
   "metadata": {},
   "outputs": [],
   "source": []
  },
  {
   "cell_type": "code",
   "execution_count": null,
   "id": "2bc4376f-365f-4e16-bfa8-906be69ffb8d",
   "metadata": {},
   "outputs": [],
   "source": []
  }
 ],
 "metadata": {
  "kernelspec": {
   "display_name": "Python 3",
   "language": "python",
   "name": "python3"
  },
  "language_info": {
   "codemirror_mode": {
    "name": "ipython",
    "version": 3
   },
   "file_extension": ".py",
   "mimetype": "text/x-python",
   "name": "python",
   "nbconvert_exporter": "python",
   "pygments_lexer": "ipython3",
   "version": "3.7.10"
  }
 },
 "nbformat": 4,
 "nbformat_minor": 5
}
